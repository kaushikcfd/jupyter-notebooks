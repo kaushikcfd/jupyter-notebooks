{
 "cells": [
  {
   "cell_type": "markdown",
   "metadata": {},
   "source": [
    "## Wilkinson Shift\n",
    "\n",
    "Given a symmetric matrix $A$, find its eigvenvalues and eigenvectors using Wilkinson shift.\n",
    "\n",
    "Wilkinson shift is the involves shifting the eigenvalue problem. At every iteration the shift is derived from the elements of the bottom most $2\\times 2$ submatrix.\n",
    "\n",
    "The bottomost $2\\times 2$ submatrix of the matrix $B = (b)_{ij}$, where $1 \\leq i, j \\leq n$ is given by --\n",
    "\n",
    "$$\n",
    "\\begin{align}\n",
    "\\begin{pmatrix}\n",
    "b_{n-1, n-1}& b_{n-1, n} \\\\\n",
    "b_{n, n-1} & b_{n, n}\n",
    "\\end{pmatrix}\n",
    "\\end{align}\n",
    "$$\n",
    "\n",
    "If the lower submatrix of the matrix in the $k$-th iteration is given by --\n",
    "$$\n",
    "\\begin{align}\n",
    "\\begin{pmatrix}\n",
    "\\alpha& \\beta \\\\\n",
    "\\eta & \\gamma\n",
    "\\end{pmatrix}\n",
    "\\end{align}\n",
    "$$\n",
    "\n",
    "then the shift $\\sigma_k$ at the $k-$th iteration would be given by\n",
    "$$\n",
    "\\begin{align}\n",
    " & \\sigma_k = \\gamma - \\frac{\\text{sgn}(\\delta)\\beta^2}{|\\delta| + \\sqrt{\\delta^2 + \\beta^2}} \\\\\n",
    "\\text{where, } & \\delta = \\frac{\\alpha-\\gamma}{2}\n",
    "\\end{align}\n",
    "$$\n",
    "\n",
    "Input:\n",
    "- `A`: a symmetric matrix of shape `(n, n)`\n",
    "\n",
    "Output:\n",
    "- `eigvals`: An instance of `np.ndarray` of shape `(n, )` containing the eigenvalues computed using QR iteration\n",
    "with Wilkinson shfit\n",
    "- `eigvectors`: A `list` of length `n` containing the $n-$eigenvectors of $A$.\n"
   ]
  },
  {
   "cell_type": "markdown",
   "metadata": {},
   "source": [
    "## Setup code:"
   ]
  },
  {
   "cell_type": "code",
   "execution_count": 2,
   "metadata": {},
   "outputs": [],
   "source": [
    "import numpy as np\n",
    "\n",
    "n = 25\n",
    "A = np.random.randn(n, n)\n",
    "A = 0.5*(A + A.T)  # making the matrix symmetric"
   ]
  },
  {
   "cell_type": "markdown",
   "metadata": {},
   "source": [
    "## Correct code:"
   ]
  },
  {
   "cell_type": "code",
   "execution_count": 43,
   "metadata": {},
   "outputs": [
    {
     "name": "stdout",
     "output_type": "stream",
     "text": [
      "Wilkinson converged after: 5608\n",
      "[ 0.17848318  0.38295513  0.01704377  0.02599312 -0.06838477  0.07961082\n",
      "  0.21440793 -0.56728897 -0.08164837 -0.03453496 -0.32450276  0.07375194\n",
      "  0.15010272 -0.36923146  0.08398284  0.11616219  0.09822921 -0.02660211\n",
      "  0.02074068 -0.29322069 -0.02696981 -0.07048542  0.09797008 -0.1531948\n",
      "  0.09046305]\n",
      "Final diag shift: 401\n"
     ]
    }
   ],
   "source": [
    "import numpy as np\n",
    "import numpy.linalg as npla\n",
    "import scipy.linalg as spla\n",
    "\n",
    "n = 25\n",
    "Q, U = npla.qr(np.abs(np.random.randn(n, n)))\n",
    "A = np.dot(Q, np.dot(U, Q.T))\n",
    "# A = 0.5*(A + A.T)  # making the matrix symmetric\n",
    "\n",
    "n = A.shape[0]\n",
    "tol = 1.0e-6\n",
    "lmbda = np.zeros(n)\n",
    "U = np.copy(A)\n",
    "iter_count = 0\n",
    "eigvecs = np.eye(n)\n",
    "while (npla.norm(np.diagonal(U) - lmbda, ord = np.inf) > tol):\n",
    "    lmbda = np.diagonal(U)\n",
    "    delta = 0.5*(U[-2,-2] - U[-1,-1])\n",
    "    sigma = U[-1,-1] - np.sign(delta)*(U[-2,-1]**2)/(abs(delta) + np.sqrt(delta**2 + U[-2,-1]**2))\n",
    "    Q, R = npla.qr(U - sigma*np.eye(n))\n",
    "    eigvecs = Q.T @ eigvecs\n",
    "    U = np.dot(R, Q) + sigma*np.eye(n)\n",
    "    iter_count += 1\n",
    "print('Wilkinson converged after:', iter_count)\n",
    "print(eigvecs[:, 0])\n",
    "lmbda = np.zeros(n)\n",
    "U = np.copy(A)\n",
    "iter_count = 0\n",
    "while (npla.norm(np.diagonal(U) - lmbda, ord = np.inf) > tol):\n",
    "    lmbda = np.diagonal(U)\n",
    "    sigma = U[-1,-1]\n",
    "    Q, R = npla.qr(U - sigma*np.eye(n)) \n",
    "    U = np.dot(R, Q) + sigma*np.eye(n)\n",
    "    iter_count += 1\n",
    "print('Final diag shift:', iter_count)"
   ]
  },
  {
   "cell_type": "code",
   "execution_count": 44,
   "metadata": {},
   "outputs": [
    {
     "data": {
      "text/plain": [
       "array([1.92558556, 1.73199706, 2.45106721, 1.2523835 , 1.51184716,\n",
       "       0.86546326, 1.30314051, 2.00132662, 1.3799161 , 0.52193918,\n",
       "       1.72016975, 1.194439  , 2.22415406, 1.42951116, 1.63943154,\n",
       "       1.04196573, 1.65491483, 1.95942212, 1.35243589, 0.90769459,\n",
       "       2.12209829, 0.68205412, 1.84687354, 0.54457633, 0.24077213])"
      ]
     },
     "execution_count": 44,
     "metadata": {},
     "output_type": "execute_result"
    }
   ],
   "source": [
    "A@eigvecs[:, 0]"
   ]
  },
  {
   "cell_type": "code",
   "execution_count": 45,
   "metadata": {},
   "outputs": [
    {
     "data": {
      "text/plain": [
       "array([ 3.53399069,  3.24163216,  2.80062855,  2.25675231,  2.18204876,\n",
       "        1.99647285, -5.34243192,  1.66370633,  1.50478561,  1.13659349,\n",
       "        1.05122634,  0.98211263,  0.8523246 ,  0.5839873 , -3.87784168,\n",
       "       -0.14810126, -3.07246396, -2.98152829, -2.64028909, -2.62675266,\n",
       "       -1.00025681, -2.41823783, -2.34156591, -1.54541116, -1.77334253])"
      ]
     },
     "execution_count": 45,
     "metadata": {},
     "output_type": "execute_result"
    }
   ],
   "source": [
    "lmbda"
   ]
  },
  {
   "cell_type": "code",
   "execution_count": null,
   "metadata": {},
   "outputs": [],
   "source": []
  }
 ],
 "metadata": {
  "kernelspec": {
   "display_name": "Python 3",
   "language": "python",
   "name": "python3"
  },
  "language_info": {
   "codemirror_mode": {
    "name": "ipython",
    "version": 3
   },
   "file_extension": ".py",
   "mimetype": "text/x-python",
   "name": "python",
   "nbconvert_exporter": "python",
   "pygments_lexer": "ipython3",
   "version": "3.5.2"
  }
 },
 "nbformat": 4,
 "nbformat_minor": 2
}
