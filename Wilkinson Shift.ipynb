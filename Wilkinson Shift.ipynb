{
 "cells": [
  {
   "cell_type": "code",
   "execution_count": 7,
   "metadata": {},
   "outputs": [
    {
     "name": "stdout",
     "output_type": "stream",
     "text": [
      "No shift converged after: 2156\n",
      "Last diagonal entry shift converged after: 16055\n",
      "Wilkinson shift converged after: 16028\n"
     ]
    }
   ],
   "source": [
    "# Setup\n",
    "\n",
    "import numpy as np\n",
    "import numpy.linalg as npla\n",
    "import scipy.linalg as spla\n",
    "\n",
    "n = 25\n",
    "A = np.random.randn(n, n)\n",
    "A = 0.5*(A + A.T)  # making the matrix symmetric\n",
    "\n",
    "# Implement\n",
    "n = A.shape[0]\n",
    "tol = 1.0e-10\n",
    "eigvals = np.zeros(n)\n",
    "U = np.copy(A)\n",
    "iter_count = 0\n",
    "while (npla.norm(np.diagonal(U) - eigvals, ord = np.inf) > tol):\n",
    "    eigvals = np.diagonal(U)\n",
    "    Q, R = npla.qr(U)\n",
    "    U = np.dot(R, Q)\n",
    "    iter_count += 1\n",
    "eigvals = np.diagonal(U)\n",
    "print('No shift converged after:', iter_count)\n",
    "\n",
    "\n",
    "U = np.copy(A)\n",
    "iter_count = 0\n",
    "while (npla.norm(np.diagonal(U) - eigvals, ord = np.inf) > tol):\n",
    "    eigvals = np.diagonal(U)\n",
    "    sigma = U[-1,-1]\n",
    "    Q, R = npla.qr(U - sigma*np.eye(n))\n",
    "    U = np.dot(R, Q) + sigma*np.eye(n)\n",
    "    iter_count += 1\n",
    "    if iter_count > 50000:\n",
    "        print('Did not converge')\n",
    "        break\n",
    "eigvals = np.diagonal(U)\n",
    "print('Last diagonal entry shift converged after:', iter_count)\n",
    "\n",
    "\n",
    "U = np.copy(A)\n",
    "iter_count = 0\n",
    "while (npla.norm(np.diagonal(U) - eigvals, ord = np.inf) > tol):\n",
    "    eigvals = np.diagonal(U)\n",
    "    delta = 0.5*(U[-2,-2] - U[-1,-1])\n",
    "    sigma = U[-1,-1] - np.sign(delta)*(U[-2,-1]**2)/(abs(delta) + np.sqrt(delta**2 + U[-2,-1]**2))\n",
    "    Q, R = npla.qr(U - sigma*np.eye(n))\n",
    "    U = np.dot(R, Q) + sigma*np.eye(n)\n",
    "    iter_count += 1\n",
    "eigvals = np.diagonal(U)\n",
    "print('Wilkinson shift converged after:', iter_count)"
   ]
  },
  {
   "cell_type": "code",
   "execution_count": null,
   "metadata": {},
   "outputs": [],
   "source": []
  }
 ],
 "metadata": {
  "kernelspec": {
   "display_name": "Python 3",
   "language": "python",
   "name": "python3"
  },
  "language_info": {
   "codemirror_mode": {
    "name": "ipython",
    "version": 3
   },
   "file_extension": ".py",
   "mimetype": "text/x-python",
   "name": "python",
   "nbconvert_exporter": "python",
   "pygments_lexer": "ipython3",
   "version": "3.5.2"
  }
 },
 "nbformat": 4,
 "nbformat_minor": 2
}
